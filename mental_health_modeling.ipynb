{
 "cells": [
  {
   "cell_type": "markdown",
   "id": "e37806d2",
   "metadata": {},
   "source": [
    "### Imports and helpers"
   ]
  },
  {
   "cell_type": "code",
   "execution_count": 15,
   "id": "61f6da35",
   "metadata": {
    "execution": {
     "iopub.execute_input": "2022-08-14T02:20:48.194285Z",
     "iopub.status.busy": "2022-08-14T02:20:48.192919Z",
     "iopub.status.idle": "2022-08-14T02:20:50.315102Z",
     "shell.execute_reply": "2022-08-14T02:20:50.313871Z"
    },
    "papermill": {
     "duration": 2.13844,
     "end_time": "2022-08-14T02:20:50.318470",
     "exception": false,
     "start_time": "2022-08-14T02:20:48.180030",
     "status": "completed"
    },
    "tags": []
   },
   "outputs": [],
   "source": [
    "import pandas as pd\n",
    "import numpy as np\n",
    "import pickle\n",
    "\n",
    "from sklearn.model_selection import RandomizedSearchCV, cross_validate\n",
    "from sklearn.ensemble import RandomForestClassifier, RandomForestRegressor\n",
    "from sklearn.linear_model import LogisticRegression, LinearRegression\n",
    "from sklearn.neighbors import KNeighborsClassifier, KNeighborsRegressor\n",
    "from sklearn.model_selection import train_test_split, GridSearchCV\n",
    "from sklearn.preprocessing import LabelEncoder\n",
    "from sklearn.metrics import accuracy_score, confusion_matrix, mean_squared_error\n",
    "from sklearn import datasets\n",
    "from catboost import CatBoostRegressor\n",
    "from xgboost import XGBClassifier, XGBRegressor\n",
    "\n",
    "import seaborn as sns\n",
    "import scipy.stats as st\n",
    "\n",
    "import warnings\n",
    "warnings.filterwarnings('ignore')\n",
    "\n",
    "import os\n",
    "\n",
    "import matplotlib.pyplot as plt"
   ]
  },
  {
   "cell_type": "code",
   "execution_count": 2,
   "id": "1360329b",
   "metadata": {},
   "outputs": [
    {
     "data": {
      "text/plain": [
       "20"
      ]
     },
     "execution_count": 2,
     "metadata": {},
     "output_type": "execute_result"
    }
   ],
   "source": [
    "pd.options.display.max_rows\n",
    "pd.options.display.max_columns"
   ]
  },
  {
   "cell_type": "markdown",
   "id": "25fd2247",
   "metadata": {},
   "source": [
    "### Load pickled data"
   ]
  },
  {
   "cell_type": "code",
   "execution_count": 4,
   "id": "4d9bb937",
   "metadata": {},
   "outputs": [],
   "source": [
    "df = pickle.load(open(\"./pickles/DALY_merged.pkl\", 'rb'))"
   ]
  },
  {
   "cell_type": "code",
   "execution_count": 5,
   "id": "3684c093",
   "metadata": {},
   "outputs": [
    {
     "name": "stdout",
     "output_type": "stream",
     "text": [
      "<class 'pandas.core.frame.DataFrame'>\n",
      "Int64Index: 14880 entries, 0 to 14879\n",
      "Data columns (total 11 columns):\n",
      " #   Column                          Non-Null Count  Dtype  \n",
      "---  ------                          --------------  -----  \n",
      " 0   Code                            14880 non-null  object \n",
      " 1   Year                            14880 non-null  int64  \n",
      " 2   Schizophrenia                   14880 non-null  float64\n",
      " 3   Bipolar disorder                14880 non-null  float64\n",
      " 4   Eating disorders                14880 non-null  float64\n",
      " 5   Anxiety disorders               14880 non-null  float64\n",
      " 6   Drug use disorders              14880 non-null  float64\n",
      " 7   Depressive disorders            14880 non-null  float64\n",
      " 8   Alcohol use disorders           14880 non-null  float64\n",
      " 9   Mental disorders                14880 non-null  float64\n",
      " 10  Disability-Adjusted Life Years  14880 non-null  float64\n",
      "dtypes: float64(9), int64(1), object(1)\n",
      "memory usage: 1.4+ MB\n"
     ]
    }
   ],
   "source": [
    "df.info()"
   ]
  },
  {
   "cell_type": "code",
   "execution_count": 6,
   "id": "d044d97c",
   "metadata": {},
   "outputs": [
    {
     "data": {
      "text/html": [
       "<div>\n",
       "<style scoped>\n",
       "    .dataframe tbody tr th:only-of-type {\n",
       "        vertical-align: middle;\n",
       "    }\n",
       "\n",
       "    .dataframe tbody tr th {\n",
       "        vertical-align: top;\n",
       "    }\n",
       "\n",
       "    .dataframe thead th {\n",
       "        text-align: right;\n",
       "    }\n",
       "</style>\n",
       "<table border=\"1\" class=\"dataframe\">\n",
       "  <thead>\n",
       "    <tr style=\"text-align: right;\">\n",
       "      <th></th>\n",
       "      <th>Code</th>\n",
       "      <th>Year</th>\n",
       "      <th>Schizophrenia</th>\n",
       "      <th>Bipolar disorder</th>\n",
       "      <th>Eating disorders</th>\n",
       "      <th>Anxiety disorders</th>\n",
       "      <th>Drug use disorders</th>\n",
       "      <th>Depressive disorders</th>\n",
       "      <th>Alcohol use disorders</th>\n",
       "      <th>Mental disorders</th>\n",
       "      <th>Disability-Adjusted Life Years</th>\n",
       "    </tr>\n",
       "  </thead>\n",
       "  <tbody>\n",
       "    <tr>\n",
       "      <th>0</th>\n",
       "      <td>AFG</td>\n",
       "      <td>1990</td>\n",
       "      <td>0.228979</td>\n",
       "      <td>0.721207</td>\n",
       "      <td>0.131001</td>\n",
       "      <td>4.835127</td>\n",
       "      <td>0.454202</td>\n",
       "      <td>5.125291</td>\n",
       "      <td>0.444036</td>\n",
       "      <td>16.659229</td>\n",
       "      <td>1.696670</td>\n",
       "    </tr>\n",
       "    <tr>\n",
       "      <th>1</th>\n",
       "      <td>AFG</td>\n",
       "      <td>1990</td>\n",
       "      <td>0.228979</td>\n",
       "      <td>0.721207</td>\n",
       "      <td>0.131001</td>\n",
       "      <td>4.835127</td>\n",
       "      <td>0.454202</td>\n",
       "      <td>5.125291</td>\n",
       "      <td>0.444036</td>\n",
       "      <td>16.659229</td>\n",
       "      <td>1.417621</td>\n",
       "    </tr>\n",
       "    <tr>\n",
       "      <th>2</th>\n",
       "      <td>AFG</td>\n",
       "      <td>1990</td>\n",
       "      <td>0.228979</td>\n",
       "      <td>0.721207</td>\n",
       "      <td>0.131001</td>\n",
       "      <td>4.835127</td>\n",
       "      <td>0.454202</td>\n",
       "      <td>5.125291</td>\n",
       "      <td>0.444036</td>\n",
       "      <td>12.411191</td>\n",
       "      <td>1.696670</td>\n",
       "    </tr>\n",
       "    <tr>\n",
       "      <th>3</th>\n",
       "      <td>AFG</td>\n",
       "      <td>1990</td>\n",
       "      <td>0.228979</td>\n",
       "      <td>0.721207</td>\n",
       "      <td>0.131001</td>\n",
       "      <td>4.835127</td>\n",
       "      <td>0.454202</td>\n",
       "      <td>5.125291</td>\n",
       "      <td>0.444036</td>\n",
       "      <td>12.411191</td>\n",
       "      <td>1.417621</td>\n",
       "    </tr>\n",
       "    <tr>\n",
       "      <th>4</th>\n",
       "      <td>AFG</td>\n",
       "      <td>1990</td>\n",
       "      <td>0.216352</td>\n",
       "      <td>0.581938</td>\n",
       "      <td>0.102983</td>\n",
       "      <td>3.537832</td>\n",
       "      <td>0.437110</td>\n",
       "      <td>4.725167</td>\n",
       "      <td>1.152445</td>\n",
       "      <td>16.659229</td>\n",
       "      <td>1.696670</td>\n",
       "    </tr>\n",
       "  </tbody>\n",
       "</table>\n",
       "</div>"
      ],
      "text/plain": [
       "  Code  Year  Schizophrenia  Bipolar disorder  Eating disorders  \\\n",
       "0  AFG  1990       0.228979          0.721207          0.131001   \n",
       "1  AFG  1990       0.228979          0.721207          0.131001   \n",
       "2  AFG  1990       0.228979          0.721207          0.131001   \n",
       "3  AFG  1990       0.228979          0.721207          0.131001   \n",
       "4  AFG  1990       0.216352          0.581938          0.102983   \n",
       "\n",
       "   Anxiety disorders  Drug use disorders  Depressive disorders  \\\n",
       "0           4.835127            0.454202              5.125291   \n",
       "1           4.835127            0.454202              5.125291   \n",
       "2           4.835127            0.454202              5.125291   \n",
       "3           4.835127            0.454202              5.125291   \n",
       "4           3.537832            0.437110              4.725167   \n",
       "\n",
       "   Alcohol use disorders   Mental disorders  Disability-Adjusted Life Years  \n",
       "0                0.444036         16.659229                        1.696670  \n",
       "1                0.444036         16.659229                        1.417621  \n",
       "2                0.444036         12.411191                        1.696670  \n",
       "3                0.444036         12.411191                        1.417621  \n",
       "4                1.152445         16.659229                        1.696670  "
      ]
     },
     "execution_count": 6,
     "metadata": {},
     "output_type": "execute_result"
    }
   ],
   "source": [
    "df.head()"
   ]
  },
  {
   "cell_type": "code",
   "execution_count": 7,
   "id": "7710fa1f",
   "metadata": {},
   "outputs": [
    {
     "data": {
      "text/html": [
       "<div>\n",
       "<style scoped>\n",
       "    .dataframe tbody tr th:only-of-type {\n",
       "        vertical-align: middle;\n",
       "    }\n",
       "\n",
       "    .dataframe tbody tr th {\n",
       "        vertical-align: top;\n",
       "    }\n",
       "\n",
       "    .dataframe thead th {\n",
       "        text-align: right;\n",
       "    }\n",
       "</style>\n",
       "<table border=\"1\" class=\"dataframe\">\n",
       "  <thead>\n",
       "    <tr style=\"text-align: right;\">\n",
       "      <th></th>\n",
       "      <th>Code</th>\n",
       "      <th>Year</th>\n",
       "      <th>Schizophrenia</th>\n",
       "      <th>Bipolar disorder</th>\n",
       "      <th>Eating disorders</th>\n",
       "      <th>Anxiety disorders</th>\n",
       "      <th>Drug use disorders</th>\n",
       "      <th>Depressive disorders</th>\n",
       "      <th>Alcohol use disorders</th>\n",
       "      <th>Mental disorders</th>\n",
       "      <th>Disability-Adjusted Life Years</th>\n",
       "    </tr>\n",
       "  </thead>\n",
       "  <tbody>\n",
       "    <tr>\n",
       "      <th>14875</th>\n",
       "      <td>ZWE</td>\n",
       "      <td>2015</td>\n",
       "      <td>0.209359</td>\n",
       "      <td>0.560882</td>\n",
       "      <td>0.099610</td>\n",
       "      <td>3.315701</td>\n",
       "      <td>0.599604</td>\n",
       "      <td>3.548613</td>\n",
       "      <td>1.734969</td>\n",
       "      <td>11.156429</td>\n",
       "      <td>2.193166</td>\n",
       "    </tr>\n",
       "    <tr>\n",
       "      <th>14876</th>\n",
       "      <td>ZWE</td>\n",
       "      <td>2016</td>\n",
       "      <td>0.209979</td>\n",
       "      <td>0.561768</td>\n",
       "      <td>0.100821</td>\n",
       "      <td>3.324230</td>\n",
       "      <td>0.603658</td>\n",
       "      <td>3.557508</td>\n",
       "      <td>1.689281</td>\n",
       "      <td>11.164133</td>\n",
       "      <td>2.279813</td>\n",
       "    </tr>\n",
       "    <tr>\n",
       "      <th>14877</th>\n",
       "      <td>ZWE</td>\n",
       "      <td>2017</td>\n",
       "      <td>0.210631</td>\n",
       "      <td>0.562612</td>\n",
       "      <td>0.101671</td>\n",
       "      <td>3.330569</td>\n",
       "      <td>0.608096</td>\n",
       "      <td>3.564138</td>\n",
       "      <td>1.651805</td>\n",
       "      <td>11.170427</td>\n",
       "      <td>2.364265</td>\n",
       "    </tr>\n",
       "    <tr>\n",
       "      <th>14878</th>\n",
       "      <td>ZWE</td>\n",
       "      <td>2018</td>\n",
       "      <td>0.211237</td>\n",
       "      <td>0.563283</td>\n",
       "      <td>0.102398</td>\n",
       "      <td>3.317500</td>\n",
       "      <td>0.609065</td>\n",
       "      <td>3.563141</td>\n",
       "      <td>1.686711</td>\n",
       "      <td>11.158765</td>\n",
       "      <td>2.472949</td>\n",
       "    </tr>\n",
       "    <tr>\n",
       "      <th>14879</th>\n",
       "      <td>ZWE</td>\n",
       "      <td>2019</td>\n",
       "      <td>0.211969</td>\n",
       "      <td>0.563820</td>\n",
       "      <td>0.102902</td>\n",
       "      <td>3.283934</td>\n",
       "      <td>0.610644</td>\n",
       "      <td>3.554571</td>\n",
       "      <td>1.776729</td>\n",
       "      <td>11.119021</td>\n",
       "      <td>2.525892</td>\n",
       "    </tr>\n",
       "  </tbody>\n",
       "</table>\n",
       "</div>"
      ],
      "text/plain": [
       "      Code  Year  Schizophrenia  Bipolar disorder  Eating disorders  \\\n",
       "14875  ZWE  2015       0.209359          0.560882          0.099610   \n",
       "14876  ZWE  2016       0.209979          0.561768          0.100821   \n",
       "14877  ZWE  2017       0.210631          0.562612          0.101671   \n",
       "14878  ZWE  2018       0.211237          0.563283          0.102398   \n",
       "14879  ZWE  2019       0.211969          0.563820          0.102902   \n",
       "\n",
       "       Anxiety disorders  Drug use disorders  Depressive disorders  \\\n",
       "14875           3.315701            0.599604              3.548613   \n",
       "14876           3.324230            0.603658              3.557508   \n",
       "14877           3.330569            0.608096              3.564138   \n",
       "14878           3.317500            0.609065              3.563141   \n",
       "14879           3.283934            0.610644              3.554571   \n",
       "\n",
       "       Alcohol use disorders   Mental disorders  \\\n",
       "14875                1.734969         11.156429   \n",
       "14876                1.689281         11.164133   \n",
       "14877                1.651805         11.170427   \n",
       "14878                1.686711         11.158765   \n",
       "14879                1.776729         11.119021   \n",
       "\n",
       "       Disability-Adjusted Life Years  \n",
       "14875                        2.193166  \n",
       "14876                        2.279813  \n",
       "14877                        2.364265  \n",
       "14878                        2.472949  \n",
       "14879                        2.525892  "
      ]
     },
     "execution_count": 7,
     "metadata": {},
     "output_type": "execute_result"
    }
   ],
   "source": [
    "df.tail()"
   ]
  },
  {
   "cell_type": "markdown",
   "id": "97bfec33",
   "metadata": {
    "papermill": {
     "duration": 0.017125,
     "end_time": "2022-08-14T02:20:57.921500",
     "exception": false,
     "start_time": "2022-08-14T02:20:57.904375",
     "status": "completed"
    },
    "tags": []
   },
   "source": [
    "### Modeling "
   ]
  },
  {
   "cell_type": "code",
   "execution_count": 8,
   "id": "ecfcfe88",
   "metadata": {
    "execution": {
     "iopub.execute_input": "2022-08-14T02:20:57.957993Z",
     "iopub.status.busy": "2022-08-14T02:20:57.957320Z",
     "iopub.status.idle": "2022-08-14T02:20:57.961311Z",
     "shell.execute_reply": "2022-08-14T02:20:57.960571Z"
    },
    "papermill": {
     "duration": 0.025048,
     "end_time": "2022-08-14T02:20:57.963461",
     "exception": false,
     "start_time": "2022-08-14T02:20:57.938413",
     "status": "completed"
    },
    "tags": []
   },
   "outputs": [],
   "source": [
    "target = 'Disability-Adjusted Life Years'"
   ]
  },
  {
   "cell_type": "code",
   "execution_count": 9,
   "id": "60d09867",
   "metadata": {
    "execution": {
     "iopub.execute_input": "2022-08-14T02:20:58.000909Z",
     "iopub.status.busy": "2022-08-14T02:20:58.000227Z",
     "iopub.status.idle": "2022-08-14T02:20:58.018084Z",
     "shell.execute_reply": "2022-08-14T02:20:58.016658Z"
    },
    "papermill": {
     "duration": 0.040568,
     "end_time": "2022-08-14T02:20:58.021050",
     "exception": false,
     "start_time": "2022-08-14T02:20:57.980482",
     "status": "completed"
    },
    "tags": []
   },
   "outputs": [],
   "source": [
    "# Define label encoder\n",
    "def label_encoding(old_column):\n",
    "    le = LabelEncoder()\n",
    "    le.fit(old_column)\n",
    "    new_column = le.transform(old_column)\n",
    "    return new_column"
   ]
  },
  {
   "cell_type": "code",
   "execution_count": 10,
   "id": "3dabfae1",
   "metadata": {},
   "outputs": [],
   "source": [
    "# Label encode categorical columns\n",
    "for i in df.columns:\n",
    "    if type(df[i][0]) == str:\n",
    "        df[i] = label_encoding(df[i])"
   ]
  },
  {
   "cell_type": "code",
   "execution_count": 11,
   "id": "02544130",
   "metadata": {},
   "outputs": [],
   "source": [
    "# Separate X prediction matrix from target y\n",
    "y = df[target].values\n",
    " \n",
    "X = df.drop([target], axis=1).values"
   ]
  },
  {
   "cell_type": "code",
   "execution_count": 16,
   "id": "7f27851f",
   "metadata": {},
   "outputs": [],
   "source": [
    "# Split data into train and test sets\n",
    "X_train, X_test, y_train, y_test = train_test_split(X, y, test_size=0.2, random_state=2022)"
   ]
  },
  {
   "cell_type": "code",
   "execution_count": 20,
   "id": "2e1167b3",
   "metadata": {},
   "outputs": [
    {
     "name": "stdout",
     "output_type": "stream",
     "text": [
      "2.6885261425953018\n"
     ]
    }
   ],
   "source": [
    "# Baseline model using linear regression without specified params\n",
    "model_1 = LinearRegression()\n",
    "\n",
    "params = {\n",
    "        \"n_jobs\": st.randint(1, 5)\n",
    "}\n",
    "\n",
    "# Random Search Training with 5 folds Cross Validation\n",
    "clf1 = RandomizedSearchCV(model_1, params, cv=5, n_iter=100) #n_jobs=1, \n",
    "\n",
    "clf1.fit(X_train, y_train)  \n",
    "\n",
    "y_pred = clf1.predict(X_test)\n",
    "results = mean_squared_error(y_pred, y_test)\n",
    "print(results)"
   ]
  },
  {
   "cell_type": "code",
   "execution_count": 21,
   "id": "0d21d69a",
   "metadata": {},
   "outputs": [
    {
     "name": "stdout",
     "output_type": "stream",
     "text": [
      "1.5790314915928862\n"
     ]
    }
   ],
   "source": [
    "model_2 = RandomForestRegressor()\n",
    "\n",
    "params = {  \n",
    "        \"n_estimators\": st.randint(50, 150),\n",
    "        \"max_depth\": st.randint(2, 40),\n",
    "        \"min_samples_split\": st.randint(2, 40),\n",
    "        \"min_samples_leaf\": st.randint(2, 20),\n",
    "    }\n",
    "\n",
    "# Random Search Training with 5 folds Cross Validation\n",
    "clf2 = RandomizedSearchCV(model_2, params, cv=5, n_jobs=1, n_iter=100) \n",
    "\n",
    "clf2.fit(X_train, y_train)  \n",
    "\n",
    "y_pred = clf2.predict(X_test)\n",
    "results = mean_squared_error(y_pred, y_test)\n",
    "print(results)"
   ]
  },
  {
   "cell_type": "code",
   "execution_count": 22,
   "id": "da5747ed",
   "metadata": {},
   "outputs": [
    {
     "name": "stdout",
     "output_type": "stream",
     "text": [
      "1.7874686968239537\n"
     ]
    }
   ],
   "source": [
    "model_3 = KNeighborsRegressor()\n",
    "\n",
    "params = {  \n",
    "        \"n_neighbors\": st.randint(3, 10),\n",
    "        \"p\": st.randint(1, 5),\n",
    "    }\n",
    "\n",
    "# Random Search Training with 5 folds Cross Validation\n",
    "clf3 = RandomizedSearchCV(model_3, params, cv=5, n_jobs=1, n_iter=100) \n",
    "\n",
    "clf3.fit(X_train, y_train)  \n",
    "\n",
    "y_pred = clf3.predict(X_test)\n",
    "results = mean_squared_error(y_pred, y_test)\n",
    "print(results)"
   ]
  },
  {
   "cell_type": "code",
   "execution_count": 23,
   "id": "160c68b8",
   "metadata": {
    "execution": {
     "iopub.execute_input": "2022-08-14T02:20:58.058011Z",
     "iopub.status.busy": "2022-08-14T02:20:58.057605Z",
     "iopub.status.idle": "2022-08-14T02:25:28.448228Z",
     "shell.execute_reply": "2022-08-14T02:25:28.447335Z"
    },
    "papermill": {
     "duration": 270.431448,
     "end_time": "2022-08-14T02:25:28.469600",
     "exception": false,
     "start_time": "2022-08-14T02:20:58.038152",
     "status": "completed"
    },
    "tags": []
   },
   "outputs": [
    {
     "name": "stdout",
     "output_type": "stream",
     "text": [
      "1.549464288583638\n"
     ]
    }
   ],
   "source": [
    "model_4 = XGBRegressor()\n",
    "\n",
    "params = {  \n",
    "        \"n_estimators\": st.randint(3, 40),\n",
    "        \"max_depth\": st.randint(3, 40),\n",
    "        \"learning_rate\": st.uniform(0.05, 0.4),\n",
    "        \"colsample_bytree\": st.beta(10, 1),\n",
    "        \"subsample\": st.beta(10, 1),\n",
    "        \"gamma\": st.uniform(0, 10),\n",
    "        'scale_pos_weight': st.randint(0, 2),\n",
    "        \"min_child_weight\": st.expon(0, 50),\n",
    "    }\n",
    "\n",
    "# Random Search Training with 5 folds Cross Validation\n",
    "clf4 = RandomizedSearchCV(model_4, params, cv=5, n_jobs=1, n_iter=100) \n",
    "\n",
    "clf4.fit(X_train, y_train)  \n",
    "\n",
    "y_pred = clf4.predict(X_test)\n",
    "results = mean_squared_error(y_pred, y_test)\n",
    "print(results)"
   ]
  },
  {
   "cell_type": "code",
   "execution_count": 24,
   "id": "d96cbc66",
   "metadata": {
    "execution": {
     "iopub.execute_input": "2022-08-14T02:25:28.505579Z",
     "iopub.status.busy": "2022-08-14T02:25:28.504947Z",
     "iopub.status.idle": "2022-08-14T02:25:28.520295Z",
     "shell.execute_reply": "2022-08-14T02:25:28.519312Z"
    },
    "papermill": {
     "duration": 0.036764,
     "end_time": "2022-08-14T02:25:28.523355",
     "exception": false,
     "start_time": "2022-08-14T02:25:28.486591",
     "status": "completed"
    },
    "tags": []
   },
   "outputs": [],
   "source": [
    "# save models\n",
    "pickle.dump(clf1, open('./pickles/clf1_lr.pkl', 'wb'))\n",
    "pickle.dump(clf2, open('./pickles/clf2_rf.pkl', 'wb'))\n",
    "pickle.dump(clf3, open('./pickles/clf3_kn.pkl', 'wb'))\n",
    "pickle.dump(clf4, open('./pickles/clf4_xgb.pkl', 'wb'))"
   ]
  },
  {
   "cell_type": "code",
   "execution_count": null,
   "id": "193d391c",
   "metadata": {},
   "outputs": [],
   "source": []
  }
 ],
 "metadata": {
  "kernelspec": {
   "display_name": "Python 3.10.6 64-bit",
   "language": "python",
   "name": "python3"
  },
  "language_info": {
   "codemirror_mode": {
    "name": "ipython",
    "version": 3
   },
   "file_extension": ".py",
   "mimetype": "text/x-python",
   "name": "python",
   "nbconvert_exporter": "python",
   "pygments_lexer": "ipython3",
   "version": "3.10.6"
  },
  "papermill": {
   "default_parameters": {},
   "duration": 291.995189,
   "end_time": "2022-08-14T02:25:30.852133",
   "environment_variables": {},
   "exception": null,
   "input_path": "__notebook__.ipynb",
   "output_path": "__notebook__.ipynb",
   "parameters": {},
   "start_time": "2022-08-14T02:20:38.856944",
   "version": "2.3.4"
  },
  "vscode": {
   "interpreter": {
    "hash": "369f2c481f4da34e4445cda3fffd2e751bd1c4d706f27375911949ba6bb62e1c"
   }
  }
 },
 "nbformat": 4,
 "nbformat_minor": 5
}
